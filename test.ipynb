{
 "cells": [
  {
   "cell_type": "code",
   "execution_count": 1,
   "metadata": {},
   "outputs": [],
   "source": [
    "class Node:\n",
    "    def __init__(self, value):\n",
    "        self.value = value\n",
    "        self._up = value + '_up'\n",
    "        self._down = value + '_down'\n",
    "        self.synced_up_down = None\n",
    "\n",
    "    @property\n",
    "    def up(self):\n",
    "        return self._up\n",
    "\n",
    "    @up.setter\n",
    "    def up(self, new_value):\n",
    "        self._up = new_value\n",
    "        # If this node is synced with another node, update the other node's down edge\n",
    "        if self.synced_up_down:\n",
    "            self.synced_up_down._down = new_value\n",
    "\n",
    "    @property\n",
    "    def down(self):\n",
    "        return self._down\n",
    "\n",
    "    @down.setter\n",
    "    def down(self, new_value):\n",
    "        self._down = new_value\n",
    "        # If this node is synced with another node, update the other node's up edge\n",
    "        if self.synced_up_down:\n",
    "            self.synced_up_down._up = new_value\n",
    "\n",
    "    def sync_up_down(self, other_node):\n",
    "        # Synchronize this node's up edge with the other node's down edge\n",
    "        self.synced_up_down = other_node\n",
    "        other_node.synced_up_down = self\n",
    "        # Initial sync\n",
    "        self.up = other_node.down  # This will automatically sync both nodes\n",
    "\n",
    "    def __repr__(self):\n",
    "        return f\"Node({self.value})\""
   ]
  },
  {
   "cell_type": "code",
   "execution_count": 2,
   "metadata": {},
   "outputs": [
    {
     "name": "stdout",
     "output_type": "stream",
     "text": [
      "Node A's up: \tA_up\n",
      "Node B's down: \tB_down\n"
     ]
    }
   ],
   "source": [
    "# Example usage:\n",
    "node_a = Node('A')\n",
    "node_b = Node('B')\n",
    "\n",
    "# Check A and B node initial edge info\n",
    "print(f\"Node A's up: \\t{node_a.up}\")      # Outputs: A_up\n",
    "print(f\"Node B's down: \\t{node_b.down}\")  # Outputs: B_down"
   ]
  },
  {
   "cell_type": "code",
   "execution_count": 3,
   "metadata": {},
   "outputs": [
    {
     "name": "stdout",
     "output_type": "stream",
     "text": [
      "Node A's up: \tB_down\n",
      "Node B's down: \tB_down\n"
     ]
    }
   ],
   "source": [
    "node_a.sync_up_down(node_b)\n",
    "\n",
    "# Syncronized A's up and B's down\n",
    "print(f\"Node A's up: \\t{node_a.up}\")      # Outputs: B_down, since it is synced\n",
    "print(f\"Node B's down: \\t{node_b.down}\")  # Outputs: B_down"
   ]
  },
  {
   "cell_type": "code",
   "execution_count": 4,
   "metadata": {},
   "outputs": [
    {
     "name": "stdout",
     "output_type": "stream",
     "text": [
      "Node A's up: \tA_modified_up\n",
      "Node B's down: \tA_modified_up\n"
     ]
    }
   ],
   "source": [
    "# Modify node_a's up edge\n",
    "node_a.up = \"A_modified_up\"\n",
    "print(f\"Node A's up: \\t{node_a.up}\")      # Outputs: A_modified_up\n",
    "print(f\"Node B's down: \\t{node_b.down}\")  # Outputs: A_modified_up, since it is synced"
   ]
  },
  {
   "cell_type": "code",
   "execution_count": 5,
   "metadata": {},
   "outputs": [
    {
     "name": "stdout",
     "output_type": "stream",
     "text": [
      "Node A's up: \tB_modified_down\n",
      "Node B's down: \tB_modified_down\n"
     ]
    }
   ],
   "source": [
    "# Modify node_a's up edge\n",
    "node_b.down = \"B_modified_down\"\n",
    "print(f\"Node A's up: \\t{node_a.up}\")      # Outputs: B_modified_down\n",
    "print(f\"Node B's down: \\t{node_b.down}\")  # Outputs: B_modified_down, since it is synced"
   ]
  },
  {
   "cell_type": "code",
   "execution_count": 6,
   "metadata": {},
   "outputs": [
    {
     "name": "stdout",
     "output_type": "stream",
     "text": [
      "Node A's up: \t0\n",
      "Node B's down: \t0\n"
     ]
    }
   ],
   "source": [
    "# Modify node_a's up edge\n",
    "node_b.down = \"0\"\n",
    "print(f\"Node A's up: \\t{node_a.up}\")   # Outputs: B_modified_down\n",
    "print(f\"Node B's down: \\t{node_b.down}\") # Outputs: B_modified_down, since it is synced"
   ]
  },
  {
   "cell_type": "code",
   "execution_count": null,
   "metadata": {},
   "outputs": [],
   "source": []
  }
 ],
 "metadata": {
  "kernelspec": {
   "display_name": "venv",
   "language": "python",
   "name": "python3"
  },
  "language_info": {
   "codemirror_mode": {
    "name": "ipython",
    "version": 3
   },
   "file_extension": ".py",
   "mimetype": "text/x-python",
   "name": "python",
   "nbconvert_exporter": "python",
   "pygments_lexer": "ipython3",
   "version": "3.10.11"
  }
 },
 "nbformat": 4,
 "nbformat_minor": 2
}
